{
 "cells": [
  {
   "cell_type": "code",
   "execution_count": null,
   "id": "25727cb6",
   "metadata": {},
   "outputs": [],
   "source": [
    "player1='x'\n",
    "player2='O'\n",
    "board=[' ']*10"
   ]
  },
  {
   "cell_type": "code",
   "execution_count": null,
   "id": "997f89bc",
   "metadata": {},
   "outputs": [],
   "source": [
    "def display_board(board):\n",
    "    print(f'{board[1]} | {board[2]} |{board[3]}')\n",
    "    print(f'{board[4]} | {board[5]} |{board[6]}')\n",
    "    print(f'{board[7]} | {board[8]} |{board[9]}')\n",
    "    print('-' * 10)"
   ]
  },
  {
   "cell_type": "code",
   "execution_count": null,
   "id": "92ff7761",
   "metadata": {},
   "outputs": [],
   "source": [
    "display_board(board)"
   ]
  },
  {
   "cell_type": "code",
   "execution_count": null,
   "id": "8d3e40ec",
   "metadata": {},
   "outputs": [],
   "source": [
    "def check_win():\n",
    "    if (board[1]==board[2]==board[3] and board[1]!=' '):\n",
    "        return True\n",
    "    elif (board[4]==board[5]==board[6] and board[4]!=' '):\n",
    "        return True\n",
    "    elif (board[7]==board[8]==board[9] and board[7]!=' '):\n",
    "        return True\n",
    "    elif (board[1]==board[4]==board[7] and board[1]!=' '):\n",
    "        return True\n",
    "    elif (board[2]==board[5]==board[8] and board[2]!=' '):\n",
    "        return True\n",
    "    elif (board[3]==board[6]==board[9] and board[3]!=' '):\n",
    "        return True\n",
    "    elif (board[1]==board[5]==board[9] and board[1]!=' '):\n",
    "        return True\n",
    "    elif (board[3]==board[5]==board[7] and board[1]!=' '):\n",
    "        return True\n",
    "    else:\n",
    "        return False\n",
    "    \n",
    "   "
   ]
  },
  {
   "cell_type": "code",
   "execution_count": null,
   "id": "dc8a79a7",
   "metadata": {},
   "outputs": [],
   "source": [
    "check_win()"
   ]
  },
  {
   "cell_type": "code",
   "execution_count": null,
   "id": "7838f5d9",
   "metadata": {},
   "outputs": [],
   "source": [
    "def check_draw():\n",
    "    if board.count(' ')<2:\n",
    "        return True\n",
    "    else:\n",
    "        return False"
   ]
  },
  {
   "cell_type": "code",
   "execution_count": null,
   "id": "0199440b",
   "metadata": {},
   "outputs": [],
   "source": [
    "def is_available(pos):\n",
    "    if board[pos]==' ':\n",
    "        return True\n",
    "    else:\n",
    "        return False"
   ]
  },
  {
   "cell_type": "code",
   "execution_count": null,
   "id": "50785352",
   "metadata": {},
   "outputs": [],
   "source": [
    "def insert(letter,pos):\n",
    "    if is_available(pos):\n",
    "        board[pos]= letter\n",
    "        display_board(board)\n",
    "        if check_win():\n",
    "            if letter=='X':\n",
    "                print('player1 wins')\n",
    "            elif letter=='O':\n",
    "                print('player 2 wins')\n",
    "        if check_draw():\n",
    "            print('Draw')\n",
    "    else:\n",
    "        pos=int(input('please enter another position'))\n",
    "        insert(letter,pos)\n",
    "        "
   ]
  },
  {
   "cell_type": "code",
   "execution_count": null,
   "id": "35149b77",
   "metadata": {},
   "outputs": [],
   "source": [
    "def player1_move(letter):\n",
    "    pos=int(input('enter position'))\n",
    "    insert(letter,pos)"
   ]
  },
  {
   "cell_type": "code",
   "execution_count": null,
   "id": "114152ee",
   "metadata": {},
   "outputs": [],
   "source": [
    "def player2_move(letter):\n",
    "    pos=int(input('enter position'))\n",
    "    insert(letter,pos)"
   ]
  },
  {
   "cell_type": "code",
   "execution_count": null,
   "id": "27e4a881",
   "metadata": {},
   "outputs": [
    {
     "name": "stdout",
     "output_type": "stream",
     "text": [
      "  |   | \n",
      "  |   | \n",
      "  |   | \n",
      "----------\n",
      "enter position5\n",
      "  |   | \n",
      "  | x | \n",
      "  |   | \n",
      "----------\n",
      "enter position3\n",
      "  |   |O\n",
      "  | x | \n",
      "  |   | \n",
      "----------\n",
      "  |   |O\n",
      "  | x | \n",
      "  |   | \n",
      "----------\n",
      "enter position2\n",
      "  | x |O\n",
      "  | x | \n",
      "  |   | \n",
      "----------\n",
      "enter position8\n",
      "  | x |O\n",
      "  | x | \n",
      "  | O | \n",
      "----------\n",
      "  | x |O\n",
      "  | x | \n",
      "  | O | \n",
      "----------\n",
      "enter position6\n",
      "  | x |O\n",
      "  | x |x\n",
      "  | O | \n",
      "----------\n",
      "enter position4\n",
      "  | x |O\n",
      "O | x |x\n",
      "  | O | \n",
      "----------\n",
      "  | x |O\n",
      "O | x |x\n",
      "  | O | \n",
      "----------\n",
      "enter position1\n",
      "x | x |O\n",
      "O | x |x\n",
      "  | O | \n",
      "----------\n",
      "enter position7\n",
      "x | x |O\n",
      "O | x |x\n",
      "O | O | \n",
      "----------\n",
      "x | x |O\n",
      "O | x |x\n",
      "O | O | \n",
      "----------\n",
      "enter position9\n",
      "x | x |O\n",
      "O | x |x\n",
      "O | O |x\n",
      "----------\n",
      "Draw\n"
     ]
    }
   ],
   "source": [
    "while not check_win():\n",
    "    display_board(board)\n",
    "    player1_move(player1)\n",
    "    player2_move(player2)"
   ]
  },
  {
   "cell_type": "code",
   "execution_count": 30,
   "id": "2d98615e",
   "metadata": {},
   "outputs": [
    {
     "data": {
      "text/plain": [
       "True"
      ]
     },
     "execution_count": 30,
     "metadata": {},
     "output_type": "execute_result"
    }
   ],
   "source": []
  },
  {
   "cell_type": "code",
   "execution_count": null,
   "id": "c517271f",
   "metadata": {},
   "outputs": [],
   "source": []
  }
 ],
 "metadata": {
  "kernelspec": {
   "display_name": "Python 3 (ipykernel)",
   "language": "python",
   "name": "python3"
  },
  "language_info": {
   "codemirror_mode": {
    "name": "ipython",
    "version": 3
   },
   "file_extension": ".py",
   "mimetype": "text/x-python",
   "name": "python",
   "nbconvert_exporter": "python",
   "pygments_lexer": "ipython3",
   "version": "3.11.4"
  }
 },
 "nbformat": 4,
 "nbformat_minor": 5
}
