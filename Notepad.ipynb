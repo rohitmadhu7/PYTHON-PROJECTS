{
 "cells": [
  {
   "cell_type": "code",
   "execution_count": 150,
   "id": "4bb5b2d0",
   "metadata": {},
   "outputs": [],
   "source": [
    "from tkinter import *\n",
    "from tkinter import filedialog,Menu\n"
   ]
  },
  {
   "cell_type": "code",
   "execution_count": 151,
   "id": "ed1443ce",
   "metadata": {},
   "outputs": [],
   "source": [
    "def clicked():\n",
    "    file=filedialog.askdirectory()\n",
    "    print(file)\n"
   ]
  },
  {
   "cell_type": "code",
   "execution_count": 152,
   "id": "7c55b0be",
   "metadata": {},
   "outputs": [],
   "source": [
    "def savefile():\n",
    "    file=filedialog.asksaveasfile()"
   ]
  },
  {
   "cell_type": "code",
   "execution_count": 153,
   "id": "4e75cc5b",
   "metadata": {},
   "outputs": [],
   "source": [
    "def exit():\n",
    "    window.destroy()"
   ]
  },
  {
   "cell_type": "code",
   "execution_count": 154,
   "id": "abf864f0",
   "metadata": {},
   "outputs": [],
   "source": [
    "def newwindow():\n",
    "    new= Toplevel(window)\n",
    "    new.geometry('500x300')\n",
    "    new.title(\"New Window\")\n",
    "    out1 = Text(new,height=50 ,width=62)\n",
    "    out1.grid(row=4 ,column=0)\n",
    "    "
   ]
  },
  {
   "cell_type": "code",
   "execution_count": 155,
   "id": "f304fdd1",
   "metadata": {},
   "outputs": [],
   "source": [
    "def new():\n",
    "    out.delete(\"1.0\",\"end\")"
   ]
  },
  {
   "cell_type": "code",
   "execution_count": 156,
   "id": "27347d67",
   "metadata": {},
   "outputs": [],
   "source": [
    "def saveasfile():\n",
    "    file=filedialog.asksaveasfile()"
   ]
  },
  {
   "cell_type": "code",
   "execution_count": 157,
   "id": "16ddd7e7",
   "metadata": {},
   "outputs": [],
   "source": [
    "def pagesetup():\n",
    "    new2=Toplevel(window)\n",
    "    new2.geometry('500x300')\n",
    "    new2.title('Page Setup')\n",
    "    \n",
    "    "
   ]
  },
  {
   "cell_type": "code",
   "execution_count": 159,
   "id": "c901496e",
   "metadata": {},
   "outputs": [],
   "source": [
    "window=Tk()\n",
    "window.geometry('500x300')\n",
    "out = Text(window,height=50 ,width=62)\n",
    "out.grid(row=4 ,column=0)\n",
    "menu=Menu(window)\n",
    "newitem1=Menu(menu,tearoff=0)\n",
    "newitem1.add_cascade(label='New',command=new)\n",
    "newitem1.add_cascade(label='New window',command=newwindow)\n",
    "newitem1.add_cascade(label='Open',command=clicked)\n",
    "newitem1.add_cascade(label='Save',command=savefile)\n",
    "newitem1.add_cascade(label='Save As..',command=saveasfile)\n",
    "newitem1.add_cascade(label='Page Setup',command=pagesetup)\n",
    "newitem1.add_cascade(label='Print')\n",
    "newitem1.add_cascade(label='Exit',command=exit)\n",
    "window.config(menu=menu)\n",
    "menu.add_cascade(label='File',menu=newitem1)\n",
    "newitem2=Menu(menu,tearoff=0)\n",
    "newitem2.add_cascade(label='Undo')\n",
    "newitem2.add_cascade(label='Cut')\n",
    "newitem2.add_cascade(label='Copy')\n",
    "newitem2.add_cascade(label='Paste')\n",
    "newitem2.add_cascade(label='Delete')\n",
    "newitem2.add_cascade(label='Find...')\n",
    "newitem2.add_cascade(label='Find Next')\n",
    "newitem2.add_cascade(label='Find Previous')\n",
    "newitem2.add_cascade(label='Replace...')\n",
    "newitem2.add_cascade(label='Go To...')\n",
    "newitem2.add_cascade(label='Select All')\n",
    "newitem2.add_cascade(label='Time/Date')\n",
    "window.config(menu=menu)\n",
    "menu.add_cascade(label='Edit',menu=newitem2)\n",
    "newitem3=Menu(menu,tearoff=0)\n",
    "newitem3.add_cascade(label='Word Wrap')\n",
    "newitem3.add_cascade(label='Format...')\n",
    "window.config(menu=menu)\n",
    "menu.add_cascade(label='Format',menu=newitem3)\n",
    "newitem4=Menu(menu,tearoff=0)\n",
    "newitem4.add_cascade(label='zoom')\n",
    "newitem4.add_cascade(label='Status Bar')\n",
    "window.config(menu=menu)\n",
    "menu.add_cascade(label='View',menu=newitem4)\n",
    "window.config(menu=menu)\n",
    "newitem5=Menu(menu,tearoff=0)\n",
    "newitem5.add_cascade(label='View Help')\n",
    "newitem5.add_cascade(label='Send Feedback')\n",
    "newitem5.add_cascade(label='About Notepad')\n",
    "menu.add_cascade(label='Help',menu=newitem5)\n",
    "\n",
    "window.mainloop()\n"
   ]
  },
  {
   "cell_type": "code",
   "execution_count": null,
   "id": "6c7723e9",
   "metadata": {},
   "outputs": [],
   "source": []
  },
  {
   "cell_type": "code",
   "execution_count": null,
   "id": "dda2fb2a",
   "metadata": {},
   "outputs": [],
   "source": []
  }
 ],
 "metadata": {
  "kernelspec": {
   "display_name": "Python 3 (ipykernel)",
   "language": "python",
   "name": "python3"
  },
  "language_info": {
   "codemirror_mode": {
    "name": "ipython",
    "version": 3
   },
   "file_extension": ".py",
   "mimetype": "text/x-python",
   "name": "python",
   "nbconvert_exporter": "python",
   "pygments_lexer": "ipython3",
   "version": "3.11.4"
  }
 },
 "nbformat": 4,
 "nbformat_minor": 5
}
